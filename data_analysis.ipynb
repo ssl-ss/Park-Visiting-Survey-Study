{
 "cells": [
  {
   "cell_type": "code",
   "execution_count": 1,
   "metadata": {},
   "outputs": [],
   "source": [
    "import pandas as pd\n",
    "#data = pd.read_csv(\"data_analysis.csv\", encoding= 'unicode_escape')\n",
    "data = pd.read_csv(\"new_data.csv\", encoding= 'unicode_escape')"
   ]
  },
  {
   "cell_type": "code",
   "execution_count": 2,
   "metadata": {},
   "outputs": [
    {
     "data": {
      "text/html": [
       "<div>\n",
       "<style scoped>\n",
       "    .dataframe tbody tr th:only-of-type {\n",
       "        vertical-align: middle;\n",
       "    }\n",
       "\n",
       "    .dataframe tbody tr th {\n",
       "        vertical-align: top;\n",
       "    }\n",
       "\n",
       "    .dataframe thead th {\n",
       "        text-align: right;\n",
       "    }\n",
       "</style>\n",
       "<table border=\"1\" class=\"dataframe\">\n",
       "  <thead>\n",
       "    <tr style=\"text-align: right;\">\n",
       "      <th></th>\n",
       "      <th>City</th>\n",
       "      <th>before</th>\n",
       "      <th>during</th>\n",
       "      <th>reason</th>\n",
       "      <th>Unnamed: 4</th>\n",
       "      <th>access</th>\n",
       "      <th>hour work</th>\n",
       "      <th>hour park</th>\n",
       "      <th>desired</th>\n",
       "      <th>importance</th>\n",
       "      <th>why</th>\n",
       "      <th>gender</th>\n",
       "      <th>ethnicity</th>\n",
       "      <th>age</th>\n",
       "      <th>education</th>\n",
       "      <th>employment</th>\n",
       "      <th>marriage</th>\n",
       "      <th>income</th>\n",
       "      <th>difference</th>\n",
       "      <th>trend</th>\n",
       "    </tr>\n",
       "  </thead>\n",
       "  <tbody>\n",
       "    <tr>\n",
       "      <th>0</th>\n",
       "      <td>Campinas, SÃ£o Paulo</td>\n",
       "      <td>1-2 times/week</td>\n",
       "      <td>1-2 times/month</td>\n",
       "      <td>Exercise (e.g. running and hiking);Reduce stre...</td>\n",
       "      <td>NaN</td>\n",
       "      <td>0</td>\n",
       "      <td>8</td>\n",
       "      <td>1.0</td>\n",
       "      <td>1.0</td>\n",
       "      <td>4</td>\n",
       "      <td>For me it's important spend time in the nature...</td>\n",
       "      <td>Male</td>\n",
       "      <td>0</td>\n",
       "      <td>30</td>\n",
       "      <td>2</td>\n",
       "      <td>Employed full-time(40+ hours a week)</td>\n",
       "      <td>Single</td>\n",
       "      <td>2</td>\n",
       "      <td>-1</td>\n",
       "      <td>0</td>\n",
       "    </tr>\n",
       "    <tr>\n",
       "      <th>1</th>\n",
       "      <td>Los Angeles</td>\n",
       "      <td>1-2 times/week</td>\n",
       "      <td>1-2 times/month</td>\n",
       "      <td>Exercise (e.g. running and hiking);Feel more r...</td>\n",
       "      <td>NaN</td>\n",
       "      <td>0</td>\n",
       "      <td>8</td>\n",
       "      <td>0.5</td>\n",
       "      <td>1.0</td>\n",
       "      <td>4</td>\n",
       "      <td>Spending time in nature makes me mentally and ...</td>\n",
       "      <td>Male</td>\n",
       "      <td>0</td>\n",
       "      <td>30</td>\n",
       "      <td>2</td>\n",
       "      <td>Employed full-time(40+ hours a week)</td>\n",
       "      <td>Single</td>\n",
       "      <td>3</td>\n",
       "      <td>-1</td>\n",
       "      <td>1</td>\n",
       "    </tr>\n",
       "    <tr>\n",
       "      <th>2</th>\n",
       "      <td>memphis.tn</td>\n",
       "      <td>1-2 times/week</td>\n",
       "      <td>1-2 times/month</td>\n",
       "      <td>Exercise (e.g. running and hiking), Time with ...</td>\n",
       "      <td>NaN</td>\n",
       "      <td>0</td>\n",
       "      <td>2</td>\n",
       "      <td>2.0</td>\n",
       "      <td>2.0</td>\n",
       "      <td>5</td>\n",
       "      <td>to have a good time</td>\n",
       "      <td>male</td>\n",
       "      <td>0</td>\n",
       "      <td>25</td>\n",
       "      <td>2</td>\n",
       "      <td>Employed full-time(40+ hours a week)</td>\n",
       "      <td>Married</td>\n",
       "      <td>3</td>\n",
       "      <td>-1</td>\n",
       "      <td>1</td>\n",
       "    </tr>\n",
       "    <tr>\n",
       "      <th>3</th>\n",
       "      <td>Vancouver, BC</td>\n",
       "      <td>1-2 times/yr</td>\n",
       "      <td>1-2 times/month</td>\n",
       "      <td>Dog Walking;Exercise (e.g. running and hiking)...</td>\n",
       "      <td>NaN</td>\n",
       "      <td>0</td>\n",
       "      <td>25</td>\n",
       "      <td>2.0</td>\n",
       "      <td>5.0</td>\n",
       "      <td>4</td>\n",
       "      <td>Because you need to get a sufficient amount of...</td>\n",
       "      <td>Female</td>\n",
       "      <td>0</td>\n",
       "      <td>19</td>\n",
       "      <td>1</td>\n",
       "      <td>Unemployed (currently looking for work)</td>\n",
       "      <td>Single</td>\n",
       "      <td>2</td>\n",
       "      <td>1</td>\n",
       "      <td>1</td>\n",
       "    </tr>\n",
       "    <tr>\n",
       "      <th>4</th>\n",
       "      <td>MIAMI , FLORIDA</td>\n",
       "      <td>3-6 times/week</td>\n",
       "      <td>1-2 times/month</td>\n",
       "      <td>Contemplative space, Socializing, Feel more re...</td>\n",
       "      <td>SIGHTING GIRLS</td>\n",
       "      <td>0</td>\n",
       "      <td>8</td>\n",
       "      <td>1.0</td>\n",
       "      <td>1.0</td>\n",
       "      <td>4</td>\n",
       "      <td>IT IS IMPORTANT SPEND TIME WITH NATURE  IT MAK...</td>\n",
       "      <td>MALE</td>\n",
       "      <td>0</td>\n",
       "      <td>29</td>\n",
       "      <td>2</td>\n",
       "      <td>Employed full-time(40+ hours a week)</td>\n",
       "      <td>Single</td>\n",
       "      <td>4</td>\n",
       "      <td>-2</td>\n",
       "      <td>1</td>\n",
       "    </tr>\n",
       "    <tr>\n",
       "      <th>...</th>\n",
       "      <td>...</td>\n",
       "      <td>...</td>\n",
       "      <td>...</td>\n",
       "      <td>...</td>\n",
       "      <td>...</td>\n",
       "      <td>...</td>\n",
       "      <td>...</td>\n",
       "      <td>...</td>\n",
       "      <td>...</td>\n",
       "      <td>...</td>\n",
       "      <td>...</td>\n",
       "      <td>...</td>\n",
       "      <td>...</td>\n",
       "      <td>...</td>\n",
       "      <td>...</td>\n",
       "      <td>...</td>\n",
       "      <td>...</td>\n",
       "      <td>...</td>\n",
       "      <td>...</td>\n",
       "      <td>...</td>\n",
       "    </tr>\n",
       "    <tr>\n",
       "      <th>145</th>\n",
       "      <td>Roseville, CA</td>\n",
       "      <td>3-6 times/week</td>\n",
       "      <td>Daily</td>\n",
       "      <td>Dog Walking;Contemplative space;Feel more rela...</td>\n",
       "      <td>It gives me a chance to interact with other pe...</td>\n",
       "      <td>1</td>\n",
       "      <td>0</td>\n",
       "      <td>1.0</td>\n",
       "      <td>2.0</td>\n",
       "      <td>5</td>\n",
       "      <td>It's what keeps me sane! Being out in nature i...</td>\n",
       "      <td>Female</td>\n",
       "      <td>1</td>\n",
       "      <td>66</td>\n",
       "      <td>2</td>\n",
       "      <td>Retired</td>\n",
       "      <td>Single</td>\n",
       "      <td>2</td>\n",
       "      <td>1</td>\n",
       "      <td>1</td>\n",
       "    </tr>\n",
       "    <tr>\n",
       "      <th>146</th>\n",
       "      <td>Alabama , USA</td>\n",
       "      <td>3-6 times/week</td>\n",
       "      <td>Daily</td>\n",
       "      <td>Dog Walking, Exercise (e.g. running and hiking...</td>\n",
       "      <td>NaN</td>\n",
       "      <td>1</td>\n",
       "      <td>3</td>\n",
       "      <td>2.0</td>\n",
       "      <td>1.0</td>\n",
       "      <td>5</td>\n",
       "      <td>To live a Healthy Life with out any Stress .. ...</td>\n",
       "      <td>Male</td>\n",
       "      <td>1</td>\n",
       "      <td>32</td>\n",
       "      <td>3</td>\n",
       "      <td>Employed full-time(40+ hours a week)</td>\n",
       "      <td>Married</td>\n",
       "      <td>3</td>\n",
       "      <td>1</td>\n",
       "      <td>1</td>\n",
       "    </tr>\n",
       "    <tr>\n",
       "      <th>147</th>\n",
       "      <td>brooklyn</td>\n",
       "      <td>Daily</td>\n",
       "      <td>Daily</td>\n",
       "      <td>Dog Walking;Exercise (e.g. running and hiking)...</td>\n",
       "      <td>NaN</td>\n",
       "      <td>1</td>\n",
       "      <td>5</td>\n",
       "      <td>5.0</td>\n",
       "      <td>5.0</td>\n",
       "      <td>5</td>\n",
       "      <td>naturlal brathing is important so go out site</td>\n",
       "      <td>male</td>\n",
       "      <td>1</td>\n",
       "      <td>26</td>\n",
       "      <td>2</td>\n",
       "      <td>Employed full-time(40+ hours a week)</td>\n",
       "      <td>Married</td>\n",
       "      <td>2</td>\n",
       "      <td>0</td>\n",
       "      <td>1</td>\n",
       "    </tr>\n",
       "    <tr>\n",
       "      <th>148</th>\n",
       "      <td>Albany, New York</td>\n",
       "      <td>Daily</td>\n",
       "      <td>Daily</td>\n",
       "      <td>Exercise (e.g. running and hiking);Contemplati...</td>\n",
       "      <td>NaN</td>\n",
       "      <td>1</td>\n",
       "      <td>5</td>\n",
       "      <td>1.0</td>\n",
       "      <td>3.0</td>\n",
       "      <td>5</td>\n",
       "      <td>It reduces stress being outside and appreciati...</td>\n",
       "      <td>female</td>\n",
       "      <td>1</td>\n",
       "      <td>68</td>\n",
       "      <td>2</td>\n",
       "      <td>Employed part-time (less than 40 hours a week)</td>\n",
       "      <td>Divorced</td>\n",
       "      <td>2</td>\n",
       "      <td>0</td>\n",
       "      <td>1</td>\n",
       "    </tr>\n",
       "    <tr>\n",
       "      <th>149</th>\n",
       "      <td>brooklyn,newyork</td>\n",
       "      <td>Daily</td>\n",
       "      <td>Daily</td>\n",
       "      <td>Dog Walking;Exercise (e.g. running and hiking)...</td>\n",
       "      <td>NaN</td>\n",
       "      <td>1</td>\n",
       "      <td>5</td>\n",
       "      <td>6.0</td>\n",
       "      <td>5.0</td>\n",
       "      <td>5</td>\n",
       "      <td>dog walking very important to both of hims so ...</td>\n",
       "      <td>male</td>\n",
       "      <td>1</td>\n",
       "      <td>23</td>\n",
       "      <td>2</td>\n",
       "      <td>Employed full-time(40+ hours a week)</td>\n",
       "      <td>Married</td>\n",
       "      <td>3</td>\n",
       "      <td>0</td>\n",
       "      <td>1</td>\n",
       "    </tr>\n",
       "  </tbody>\n",
       "</table>\n",
       "<p>150 rows × 20 columns</p>\n",
       "</div>"
      ],
      "text/plain": [
       "                     City          before           during  \\\n",
       "0    Campinas, SÃ£o Paulo  1-2 times/week  1-2 times/month   \n",
       "1             Los Angeles  1-2 times/week  1-2 times/month   \n",
       "2              memphis.tn  1-2 times/week  1-2 times/month   \n",
       "3           Vancouver, BC    1-2 times/yr  1-2 times/month   \n",
       "4         MIAMI , FLORIDA  3-6 times/week  1-2 times/month   \n",
       "..                    ...             ...              ...   \n",
       "145         Roseville, CA  3-6 times/week            Daily   \n",
       "146         Alabama , USA  3-6 times/week            Daily   \n",
       "147              brooklyn           Daily            Daily   \n",
       "148      Albany, New York           Daily            Daily   \n",
       "149      brooklyn,newyork           Daily            Daily   \n",
       "\n",
       "                                                reason  \\\n",
       "0    Exercise (e.g. running and hiking);Reduce stre...   \n",
       "1    Exercise (e.g. running and hiking);Feel more r...   \n",
       "2    Exercise (e.g. running and hiking), Time with ...   \n",
       "3    Dog Walking;Exercise (e.g. running and hiking)...   \n",
       "4    Contemplative space, Socializing, Feel more re...   \n",
       "..                                                 ...   \n",
       "145  Dog Walking;Contemplative space;Feel more rela...   \n",
       "146  Dog Walking, Exercise (e.g. running and hiking...   \n",
       "147  Dog Walking;Exercise (e.g. running and hiking)...   \n",
       "148  Exercise (e.g. running and hiking);Contemplati...   \n",
       "149  Dog Walking;Exercise (e.g. running and hiking)...   \n",
       "\n",
       "                                            Unnamed: 4  access  hour work  \\\n",
       "0                                                  NaN       0          8   \n",
       "1                                                  NaN       0          8   \n",
       "2                                                  NaN       0          2   \n",
       "3                                                  NaN       0         25   \n",
       "4                                       SIGHTING GIRLS       0          8   \n",
       "..                                                 ...     ...        ...   \n",
       "145  It gives me a chance to interact with other pe...       1          0   \n",
       "146                                                NaN       1          3   \n",
       "147                                                NaN       1          5   \n",
       "148                                                NaN       1          5   \n",
       "149                                                NaN       1          5   \n",
       "\n",
       "     hour park  desired  importance  \\\n",
       "0          1.0      1.0           4   \n",
       "1          0.5      1.0           4   \n",
       "2          2.0      2.0           5   \n",
       "3          2.0      5.0           4   \n",
       "4          1.0      1.0           4   \n",
       "..         ...      ...         ...   \n",
       "145        1.0      2.0           5   \n",
       "146        2.0      1.0           5   \n",
       "147        5.0      5.0           5   \n",
       "148        1.0      3.0           5   \n",
       "149        6.0      5.0           5   \n",
       "\n",
       "                                                   why   gender  ethnicity  \\\n",
       "0    For me it's important spend time in the nature...     Male          0   \n",
       "1    Spending time in nature makes me mentally and ...     Male          0   \n",
       "2                                  to have a good time     male          0   \n",
       "3    Because you need to get a sufficient amount of...  Female           0   \n",
       "4    IT IS IMPORTANT SPEND TIME WITH NATURE  IT MAK...     MALE          0   \n",
       "..                                                 ...      ...        ...   \n",
       "145  It's what keeps me sane! Being out in nature i...   Female          1   \n",
       "146  To live a Healthy Life with out any Stress .. ...     Male          1   \n",
       "147     naturlal brathing is important so go out site      male          1   \n",
       "148  It reduces stress being outside and appreciati...   female          1   \n",
       "149  dog walking very important to both of hims so ...     male          1   \n",
       "\n",
       "     age  education                                      employment  marriage  \\\n",
       "0     30          2            Employed full-time(40+ hours a week)    Single   \n",
       "1     30          2            Employed full-time(40+ hours a week)    Single   \n",
       "2     25          2            Employed full-time(40+ hours a week)   Married   \n",
       "3     19          1         Unemployed (currently looking for work)    Single   \n",
       "4     29          2            Employed full-time(40+ hours a week)    Single   \n",
       "..   ...        ...                                             ...       ...   \n",
       "145   66          2                                         Retired    Single   \n",
       "146   32          3            Employed full-time(40+ hours a week)   Married   \n",
       "147   26          2            Employed full-time(40+ hours a week)   Married   \n",
       "148   68          2  Employed part-time (less than 40 hours a week)  Divorced   \n",
       "149   23          2            Employed full-time(40+ hours a week)   Married   \n",
       "\n",
       "     income   difference  trend  \n",
       "0          2          -1      0  \n",
       "1          3          -1      1  \n",
       "2          3          -1      1  \n",
       "3          2           1      1  \n",
       "4          4          -2      1  \n",
       "..       ...         ...    ...  \n",
       "145        2           1      1  \n",
       "146        3           1      1  \n",
       "147        2           0      1  \n",
       "148        2           0      1  \n",
       "149        3           0      1  \n",
       "\n",
       "[150 rows x 20 columns]"
      ]
     },
     "execution_count": 2,
     "metadata": {},
     "output_type": "execute_result"
    }
   ],
   "source": [
    "data"
   ]
  },
  {
   "cell_type": "markdown",
   "metadata": {},
   "source": [
    "## Multiple Linear Regression"
   ]
  },
  {
   "cell_type": "code",
   "execution_count": 3,
   "metadata": {},
   "outputs": [],
   "source": [
    "import random\n",
    "import numpy as np\n",
    "import statsmodels.api as sm"
   ]
  },
  {
   "cell_type": "code",
   "execution_count": 6,
   "metadata": {},
   "outputs": [],
   "source": [
    "import statsmodels.formula.api as smf"
   ]
  },
  {
   "cell_type": "code",
   "execution_count": 4,
   "metadata": {},
   "outputs": [],
   "source": [
    "access = data[\"access\"]\n",
    "ethnicity = data[\"ethnicity\"]\n",
    "education = data[\"education\"]\n",
    "income = data[\"income \"]"
   ]
  },
  {
   "cell_type": "code",
   "execution_count": 7,
   "metadata": {},
   "outputs": [],
   "source": [
    "random.seed(0)\n",
    "m = smf.ols(formula='access ~ ethnicity + education + income', data=data).fit()"
   ]
  },
  {
   "cell_type": "code",
   "execution_count": 8,
   "metadata": {},
   "outputs": [
    {
     "name": "stdout",
     "output_type": "stream",
     "text": [
      "                            OLS Regression Results                            \n",
      "==============================================================================\n",
      "Dep. Variable:                 access   R-squared:                       0.029\n",
      "Model:                            OLS   Adj. R-squared:                  0.009\n",
      "Method:                 Least Squares   F-statistic:                     1.467\n",
      "Date:                Mon, 19 Jul 2021   Prob (F-statistic):              0.226\n",
      "Time:                        22:54:54   Log-Likelihood:                -64.897\n",
      "No. Observations:                 150   AIC:                             137.8\n",
      "Df Residuals:                     146   BIC:                             149.8\n",
      "Df Model:                           3                                         \n",
      "Covariance Type:            nonrobust                                         \n",
      "==============================================================================\n",
      "                 coef    std err          t      P>|t|      [0.025      0.975]\n",
      "------------------------------------------------------------------------------\n",
      "Intercept      0.7083      0.134      5.297      0.000       0.444       0.973\n",
      "ethnicity      0.1270      0.063      2.024      0.045       0.003       0.251\n",
      "education      0.0129      0.044      0.292      0.770      -0.075       0.100\n",
      "income         0.0066      0.037      0.178      0.859      -0.067       0.081\n",
      "==============================================================================\n",
      "Omnibus:                       44.770   Durbin-Watson:                   0.062\n",
      "Prob(Omnibus):                  0.000   Jarque-Bera (JB):               73.590\n",
      "Skew:                          -1.651   Prob(JB):                     1.05e-16\n",
      "Kurtosis:                       3.933   Cond. No.                         17.1\n",
      "==============================================================================\n",
      "\n",
      "Notes:\n",
      "[1] Standard Errors assume that the covariance matrix of the errors is correctly specified.\n"
     ]
    }
   ],
   "source": [
    "print(m.summary())"
   ]
  },
  {
   "cell_type": "code",
   "execution_count": 83,
   "metadata": {},
   "outputs": [
    {
     "data": {
      "text/plain": [
       "0.04477995809931086"
      ]
     },
     "execution_count": 83,
     "metadata": {},
     "output_type": "execute_result"
    }
   ],
   "source": [
    "m.pvalues[1]"
   ]
  },
  {
   "cell_type": "code",
   "execution_count": 10,
   "metadata": {},
   "outputs": [
    {
     "data": {
      "text/plain": [
       "0.1270009800090241"
      ]
     },
     "execution_count": 10,
     "metadata": {},
     "output_type": "execute_result"
    }
   ],
   "source": [
    "m.params[1]"
   ]
  },
  {
   "cell_type": "code",
   "execution_count": 91,
   "metadata": {},
   "outputs": [
    {
     "data": {
      "text/plain": [
       "0.14425055928411634"
      ]
     },
     "execution_count": 91,
     "metadata": {},
     "output_type": "execute_result"
    }
   ],
   "source": [
    "m.mse_total"
   ]
  },
  {
   "cell_type": "code",
   "execution_count": 11,
   "metadata": {},
   "outputs": [
    {
     "name": "stdout",
     "output_type": "stream",
     "text": [
      "                            OLS Regression Results                            \n",
      "==============================================================================\n",
      "Dep. Variable:             difference   R-squared:                       0.017\n",
      "Model:                            OLS   Adj. R-squared:                  0.010\n",
      "Method:                 Least Squares   F-statistic:                     2.546\n",
      "Date:                Mon, 19 Jul 2021   Prob (F-statistic):              0.113\n",
      "Time:                        23:00:28   Log-Likelihood:                -222.06\n",
      "No. Observations:                 150   AIC:                             448.1\n",
      "Df Residuals:                     148   BIC:                             454.1\n",
      "Df Model:                           1                                         \n",
      "Covariance Type:            nonrobust                                         \n",
      "==============================================================================\n",
      "                 coef    std err          t      P>|t|      [0.025      0.975]\n",
      "------------------------------------------------------------------------------\n",
      "Intercept     -0.8846      0.210     -4.213      0.000      -1.300      -0.470\n",
      "access         0.3685      0.231      1.596      0.113      -0.088       0.825\n",
      "==============================================================================\n",
      "Omnibus:                       20.839   Durbin-Watson:                   0.929\n",
      "Prob(Omnibus):                  0.000   Jarque-Bera (JB):               31.422\n",
      "Skew:                          -0.734   Prob(JB):                     1.50e-07\n",
      "Kurtosis:                       4.694   Cond. No.                         4.61\n",
      "==============================================================================\n",
      "\n",
      "Notes:\n",
      "[1] Standard Errors assume that the covariance matrix of the errors is correctly specified.\n"
     ]
    }
   ],
   "source": [
    "a = smf.ols(formula='difference ~ access', data=data).fit()\n",
    "print(a.summary())"
   ]
  },
  {
   "cell_type": "code",
   "execution_count": 12,
   "metadata": {},
   "outputs": [],
   "source": [
    "dd = smf.ols(formula='difference ~ ethnicity + education + income ', data=data).fit()"
   ]
  },
  {
   "cell_type": "code",
   "execution_count": 13,
   "metadata": {},
   "outputs": [
    {
     "name": "stdout",
     "output_type": "stream",
     "text": [
      "                            OLS Regression Results                            \n",
      "==============================================================================\n",
      "Dep. Variable:             difference   R-squared:                       0.013\n",
      "Model:                            OLS   Adj. R-squared:                 -0.007\n",
      "Method:                 Least Squares   F-statistic:                    0.6608\n",
      "Date:                Mon, 19 Jul 2021   Prob (F-statistic):              0.577\n",
      "Time:                        23:00:58   Log-Likelihood:                -222.33\n",
      "No. Observations:                 150   AIC:                             452.7\n",
      "Df Residuals:                     146   BIC:                             464.7\n",
      "Df Model:                           3                                         \n",
      "Covariance Type:            nonrobust                                         \n",
      "==============================================================================\n",
      "                 coef    std err          t      P>|t|      [0.025      0.975]\n",
      "------------------------------------------------------------------------------\n",
      "Intercept     -0.9370      0.382     -2.453      0.015      -1.692      -0.182\n",
      "ethnicity      0.0513      0.179      0.286      0.775      -0.303       0.405\n",
      "education     -0.0408      0.126     -0.323      0.747      -0.291       0.209\n",
      "income         0.1488      0.107      1.393      0.166      -0.062       0.360\n",
      "==============================================================================\n",
      "Omnibus:                       17.694   Durbin-Watson:                   0.934\n",
      "Prob(Omnibus):                  0.000   Jarque-Bera (JB):               23.465\n",
      "Skew:                          -0.692   Prob(JB):                     8.03e-06\n",
      "Kurtosis:                       4.357   Cond. No.                         17.1\n",
      "==============================================================================\n",
      "\n",
      "Notes:\n",
      "[1] Standard Errors assume that the covariance matrix of the errors is correctly specified.\n"
     ]
    }
   ],
   "source": [
    "print(dd.summary())"
   ]
  },
  {
   "cell_type": "code",
   "execution_count": 116,
   "metadata": {},
   "outputs": [
    {
     "name": "stdout",
     "output_type": "stream",
     "text": [
      "                            OLS Regression Results                            \n",
      "==============================================================================\n",
      "Dep. Variable:             difference   R-squared:                       0.030\n",
      "Model:                            OLS   Adj. R-squared:                  0.003\n",
      "Method:                 Least Squares   F-statistic:                     1.109\n",
      "Date:                Mon, 31 May 2021   Prob (F-statistic):              0.355\n",
      "Time:                        23:33:01   Log-Likelihood:                -221.08\n",
      "No. Observations:                 150   AIC:                             452.2\n",
      "Df Residuals:                     145   BIC:                             467.2\n",
      "Df Model:                           4                                         \n",
      "Covariance Type:            nonrobust                                         \n",
      "==============================================================================\n",
      "                 coef    std err          t      P>|t|      [0.025      0.975]\n",
      "------------------------------------------------------------------------------\n",
      "Intercept     -1.1970      0.415     -2.884      0.005      -2.017      -0.377\n",
      "ethnicity      0.0046      0.181      0.026      0.980      -0.353       0.362\n",
      "education     -0.0456      0.126     -0.362      0.718      -0.294       0.203\n",
      "income         0.1464      0.106      1.377      0.171      -0.064       0.356\n",
      "access         0.3670      0.235      1.560      0.121      -0.098       0.832\n",
      "==============================================================================\n",
      "Omnibus:                       21.856   Durbin-Watson:                   0.944\n",
      "Prob(Omnibus):                  0.000   Jarque-Bera (JB):               32.888\n",
      "Skew:                          -0.769   Prob(JB):                     7.22e-08\n",
      "Kurtosis:                       4.702   Cond. No.                         19.4\n",
      "==============================================================================\n",
      "\n",
      "Notes:\n",
      "[1] Standard Errors assume that the covariance matrix of the errors is correctly specified.\n"
     ]
    }
   ],
   "source": [
    "d2 = smf.ols(formula='difference ~ ethnicity + education + income + access', data=data).fit()\n",
    "print(d2.summary())"
   ]
  },
  {
   "cell_type": "code",
   "execution_count": 117,
   "metadata": {},
   "outputs": [
    {
     "data": {
      "text/plain": [
       "1.157986577181208"
      ]
     },
     "execution_count": 117,
     "metadata": {},
     "output_type": "execute_result"
    }
   ],
   "source": [
    "d2.mse_total"
   ]
  },
  {
   "cell_type": "code",
   "execution_count": 140,
   "metadata": {
    "scrolled": true
   },
   "outputs": [
    {
     "name": "stdout",
     "output_type": "stream",
     "text": [
      "                            OLS Regression Results                            \n",
      "==============================================================================\n",
      "Dep. Variable:                  trend   R-squared:                       0.015\n",
      "Model:                            OLS   Adj. R-squared:                 -0.005\n",
      "Method:                 Least Squares   F-statistic:                    0.7353\n",
      "Date:                Mon, 24 May 2021   Prob (F-statistic):              0.533\n",
      "Time:                        23:02:57   Log-Likelihood:                 167.76\n",
      "No. Observations:                 152   AIC:                            -327.5\n",
      "Df Residuals:                     148   BIC:                            -315.4\n",
      "Df Model:                           3                                         \n",
      "Covariance Type:            nonrobust                                         \n",
      "==============================================================================\n",
      "                 coef    std err          t      P>|t|      [0.025      0.975]\n",
      "------------------------------------------------------------------------------\n",
      "Intercept      0.9627      0.031     31.331      0.000       0.902       1.023\n",
      "ethnicity      0.0152      0.013      1.135      0.258      -0.011       0.042\n",
      "education      0.0008      0.009      0.081      0.936      -0.018       0.019\n",
      "income         0.0073      0.008      0.931      0.353      -0.008       0.023\n",
      "==============================================================================\n",
      "Omnibus:                      327.738   Durbin-Watson:                   1.035\n",
      "Prob(Omnibus):                  0.000   Jarque-Bera (JB):           132457.736\n",
      "Skew:                         -11.935   Prob(JB):                         0.00\n",
      "Kurtosis:                     145.634   Cond. No.                         18.3\n",
      "==============================================================================\n",
      "\n",
      "Notes:\n",
      "[1] Standard Errors assume that the covariance matrix of the errors is correctly specified.\n"
     ]
    }
   ],
   "source": [
    "t = smf.ols(formula='trend ~ ethnicity + education + income', data=data).fit()\n",
    "print(t.summary())"
   ]
  },
  {
   "cell_type": "markdown",
   "metadata": {},
   "source": [
    "## Linear Regression with Bootstrap"
   ]
  },
  {
   "cell_type": "code",
   "execution_count": 14,
   "metadata": {},
   "outputs": [],
   "source": [
    "data_size = data.shape[0]\n",
    "sims = 1000"
   ]
  },
  {
   "cell_type": "code",
   "execution_count": 15,
   "metadata": {},
   "outputs": [],
   "source": [
    "random.seed(0)\n",
    "rsquared_boot = []\n",
    "p = []\n",
    "beta = []\n",
    "mse = []\n",
    "for i in range(sims):\n",
    "    bst = data.sample(n=data_size, replace=True)\n",
    "    access = bst[\"access\"]\n",
    "    ethnicity = bst[\"ethnicity\"]\n",
    "    education = bst[\"education\"]\n",
    "    income = bst[\"income \"]\n",
    "    p.append(smf.ols(formula='access ~ ethnicity + education + income', data=bst).fit().pvalues[1])\n",
    "    rsquared_boot.append(smf.ols(formula='access ~ ethnicity + education + income', data=bst).fit().rsquared)\n",
    "    beta.append(smf.ols(formula='access ~ ethnicity + education + income', data=bst).fit().params[1])\n",
    "    mse.append(smf.ols(formula='access ~ ethnicity + education + income', data=bst).fit().mse_total)"
   ]
  },
  {
   "cell_type": "code",
   "execution_count": 16,
   "metadata": {},
   "outputs": [
    {
     "data": {
      "text/plain": [
       "0.14974082608577077"
      ]
     },
     "execution_count": 16,
     "metadata": {},
     "output_type": "execute_result"
    }
   ],
   "source": [
    "#p-value\n",
    "np.mean(p) "
   ]
  },
  {
   "cell_type": "code",
   "execution_count": 17,
   "metadata": {},
   "outputs": [
    {
     "data": {
      "text/plain": [
       "0.12763319581052432"
      ]
     },
     "execution_count": 17,
     "metadata": {},
     "output_type": "execute_result"
    }
   ],
   "source": [
    "#coefficient\n",
    "np.mean(beta)"
   ]
  },
  {
   "cell_type": "code",
   "execution_count": 18,
   "metadata": {},
   "outputs": [
    {
     "data": {
      "text/plain": [
       "0.046461011810557666"
      ]
     },
     "execution_count": 18,
     "metadata": {},
     "output_type": "execute_result"
    }
   ],
   "source": [
    "#R2\n",
    "np.mean(rsquared_boot)"
   ]
  },
  {
   "cell_type": "code",
   "execution_count": 19,
   "metadata": {},
   "outputs": [
    {
     "data": {
      "text/plain": [
       "0.1437959731543624"
      ]
     },
     "execution_count": 19,
     "metadata": {},
     "output_type": "execute_result"
    }
   ],
   "source": [
    "#mean square error \n",
    "np.mean(mse)"
   ]
  },
  {
   "cell_type": "code",
   "execution_count": 20,
   "metadata": {},
   "outputs": [],
   "source": [
    "random.seed(0)\n",
    "rsquared_boot = []\n",
    "p = []\n",
    "beta = []\n",
    "mse = []\n",
    "for i in range(sims):\n",
    "    bst = data.sample(n=data_size, replace=True)\n",
    "    access = bst[\"access\"]\n",
    "    ethnicity = bst[\"ethnicity\"]\n",
    "    education = bst[\"education\"]\n",
    "    income = bst[\"income \"]\n",
    "    p.append(smf.ols(formula='difference ~ ethnicity + education + income + access', data=bst).fit().pvalues[3])\n",
    "    rsquared_boot.append(smf.ols(formula='difference ~ ethnicity + education + income + access', data=bst).fit().rsquared)\n",
    "    beta.append(smf.ols(formula='difference ~ ethnicity + education + income + access', data=bst).fit().params[3])\n",
    "    mse.append(smf.ols(formula='difference ~ ethnicity + education + income + access', data=bst).fit().mse_total)"
   ]
  },
  {
   "cell_type": "code",
   "execution_count": 21,
   "metadata": {},
   "outputs": [
    {
     "data": {
      "text/plain": [
       "0.2786491263947523"
      ]
     },
     "execution_count": 21,
     "metadata": {},
     "output_type": "execute_result"
    }
   ],
   "source": [
    "np.mean(p)"
   ]
  },
  {
   "cell_type": "code",
   "execution_count": 22,
   "metadata": {},
   "outputs": [
    {
     "data": {
      "text/plain": [
       "0.14492804442761562"
      ]
     },
     "execution_count": 22,
     "metadata": {},
     "output_type": "execute_result"
    }
   ],
   "source": [
    "np.mean(beta)"
   ]
  },
  {
   "cell_type": "code",
   "execution_count": 23,
   "metadata": {},
   "outputs": [
    {
     "data": {
      "text/plain": [
       "0.05488881496951428"
      ]
     },
     "execution_count": 23,
     "metadata": {},
     "output_type": "execute_result"
    }
   ],
   "source": [
    "np.mean(rsquared_boot)"
   ]
  },
  {
   "cell_type": "code",
   "execution_count": 24,
   "metadata": {
    "scrolled": true
   },
   "outputs": [
    {
     "data": {
      "text/plain": [
       "1.1561447874720356"
      ]
     },
     "execution_count": 24,
     "metadata": {},
     "output_type": "execute_result"
    }
   ],
   "source": [
    "np.mean(mse)"
   ]
  },
  {
   "cell_type": "code",
   "execution_count": 25,
   "metadata": {},
   "outputs": [],
   "source": [
    "beta = []\n",
    "p = []\n",
    "for i in range(sims):\n",
    "    bst = data.sample(n=data_size, replace=True)\n",
    "    access = bst[\"access\"]\n",
    "    ethnicity = bst[\"ethnicity\"]\n",
    "    education = bst[\"education\"]\n",
    "    income = bst[\"income \"]\n",
    "    p.append(smf.ols(formula='difference ~ access', data=bst).fit().pvalues[1])\n",
    "    rsquared_boot.append(smf.ols(formula='difference ~ access', data=bst).fit().rsquared)\n",
    "    beta.append(smf.ols(formula='difference ~ access', data=bst).fit().params[1])"
   ]
  },
  {
   "cell_type": "code",
   "execution_count": 26,
   "metadata": {},
   "outputs": [
    {
     "data": {
      "text/plain": [
       "0.2240740797561268"
      ]
     },
     "execution_count": 26,
     "metadata": {},
     "output_type": "execute_result"
    }
   ],
   "source": [
    "np.mean(p)"
   ]
  },
  {
   "cell_type": "code",
   "execution_count": 27,
   "metadata": {},
   "outputs": [
    {
     "data": {
      "text/plain": [
       "0.3611532954568183"
      ]
     },
     "execution_count": 27,
     "metadata": {},
     "output_type": "execute_result"
    }
   ],
   "source": [
    "np.mean(beta)"
   ]
  },
  {
   "cell_type": "code",
   "execution_count": 28,
   "metadata": {},
   "outputs": [
    {
     "data": {
      "text/plain": [
       "0.03843578461763496"
      ]
     },
     "execution_count": 28,
     "metadata": {},
     "output_type": "execute_result"
    }
   ],
   "source": [
    "np.mean(rsquared_boot)"
   ]
  },
  {
   "cell_type": "code",
   "execution_count": 29,
   "metadata": {},
   "outputs": [
    {
     "data": {
      "text/plain": [
       "1.1561447874720356"
      ]
     },
     "execution_count": 29,
     "metadata": {},
     "output_type": "execute_result"
    }
   ],
   "source": [
    "np.mean(mse)"
   ]
  },
  {
   "cell_type": "code",
   "execution_count": 30,
   "metadata": {},
   "outputs": [
    {
     "name": "stdout",
     "output_type": "stream",
     "text": [
      "R Squared 95% CI = [4.46984228e-04 8.83025820e-01]\n"
     ]
    }
   ],
   "source": [
    "#confidence interval \n",
    "eth_p_95_ci = np.percentile(p, [2.5, 97.5])\n",
    "print(\"R Squared 95% CI = {}\".format(eth_p_95_ci))"
   ]
  },
  {
   "cell_type": "code",
   "execution_count": 31,
   "metadata": {},
   "outputs": [
    {
     "name": "stdout",
     "output_type": "stream",
     "text": [
      "R Squared 95% CI = [0.00048432 0.11921906]\n"
     ]
    }
   ],
   "source": [
    "r_sq_95_ci = np.percentile(rsquared_boot, [2.5, 97.5])\n",
    "print(\"R Squared 95% CI = {}\".format(r_sq_95_ci))"
   ]
  },
  {
   "cell_type": "markdown",
   "metadata": {},
   "source": [
    "## Graph"
   ]
  },
  {
   "cell_type": "code",
   "execution_count": 32,
   "metadata": {},
   "outputs": [],
   "source": [
    "words = data [\"why\"]"
   ]
  },
  {
   "cell_type": "code",
   "execution_count": 35,
   "metadata": {},
   "outputs": [],
   "source": [
    "string = \"\"\n",
    "for i in words:\n",
    "    string += i "
   ]
  },
  {
   "cell_type": "code",
   "execution_count": 34,
   "metadata": {},
   "outputs": [
    {
     "data": {
      "text/plain": [
       "\"for me it's important spend time in the nature to keep fit and healthy.spending time in nature makes me mentally and physically healthyto have a good timebecause you need to get a sufficient amount of sun to be healthy as well as e0ugh excercise. it is also very good for your mental health it is important spend time with nature  it makes  life positivityit gives me lots of stress relief in work and also connecting to nature gives lots of positive energy to me.because it is relaxing and it is part of our lifeconnected to nature is more effective for my healthy life.importantit's a way to calm and relax your mind after a long day. as we reconnect with nature, we remember the wonderful works of god during creation. good to get outdoors for fresh air and experience nature.  good for change of scenery, to recharge oneself.it is nice to be outdoors and get away from being inside the house all the timei think it is important to spend time in nature primarily to reduce stress and to simply get fresh air and sun.according to infections disease carla williams.we as a population need to recognize we are still 0t at a point .where we have a widely avaiable . nature fresh air is very important fear is un importantthe fresh air and calm winds are something that helps to disconnect from daily stress. also nature is a great place to play games with friends in such an open spacewe need to get fresh air and be in nature. it's healthy and good for the body and soul.it's easier to exercise in nature--going to the gym seems more like work. being outside is more relaxing.it is important to help me relax because city life is so fast paced. it also forces me to put down my screen devices.i think it is very relaxing to be with nature as there is getting to be less and less open spaces in my area. i like to go with friends just to walk, talk and destress.to have an appreciation for nature and its uniqueness even in the middle of a town or city. to destress from work and other pressures of life. because it is good and healthy for us to exercise. basically it is one of the best things you can do for the mind.it makes me feel happyit is important to protect naturei find being in nature to be rejuvenating and so enjoyable. when the sun is shining and i am outside i instantly feel an improvement in my mental and physical health.i think it is important to get out in nature because it is relaxing and peaceful. i am looking forward to doing it more. i am workout and exercise is my body is very healthilybecause this the only thing to improve our health naturallyit's a great way to exercise. helps to keep someones mental and physical health in shape. the body needs to get movement and the heart will appreciate it.it is important for the vitamin d, for happiness, and simply to reset your mind when you may feel stressed or uneasy.because i like nature very much. i want to spend more time with it.i like to breathe fresh air. it helps to relax.to connect and feel spiritually connected to mother naturei think it's important because we were disconnected from electronic devices for a while. a0ther important thing is the fact that we can exercise in parks enjoying cleaner air.quality of lifei think that getting in tune with nature has many neurological benefits. these benefits would be useful long term. contact with the nature is very important for us. because my parents and my daughter feel more relaxed when the go there. fresh air is good for you and it is calming and helps with moodchange mind and get fresh air.staying inside too much can cause cabin fever.it's important to spend time in nature as natural environment are the healthiest. cities and urban areas tend to be loud and polluted, and spending time in nature is 0t just a good escape from that, but a reminder that there's always a quiet and place to escape to when urban living becomes too much. i believe that 0t just being in nature, but living close to it or even in it is a key to human happiness.i think it helps you to feel less confined, especially when social distancing during covid-19.it is important because we need fresh air.because it helps us stay active. also is good for mental health. the atmosphere in nature really stands out alot for body building and meditationsrelaxes my head and reduces my anxiety.\\ni think it's important to spend time in nature for a variety of reasons, including its ability to really help you clear your mind, be more productive, and think more clearly.vitamin d (sunlight), exercise.to feel goodvery importantit is a great place to relax and get exercise and just plain get out of the houseego is the most unimportant thing that many of us consciously or sub-consciously think as extremely important, especially if we disguise it as self-pride in our minds.covid-19 pandemic days so very safety is best and spend nature times is very important  it is very important for visiting local parks .its important to spend time in nature. because nature makes me calm and cool. it helps me to release my pressure, tension and stress. it helps me to relax. the silence and the nature makes my mind refreshed and helps me to think clearly.physical and mental health\\ni fell less stressed when i make contact with nature.looking good. each one is unique. each one is a masterpiece. the concept of beauty is a much hyped one and makes people too conscious about appearances.\\nbeing perfect. perfection is a myth. it's boring and puts a full stop to growth and improvement. being imperfect is real and there's always a scope at progress and betterment.very careful.it is important to spend time in nature because it helps clear your head and the vitamin d is good for you.unnecessary i dont go will be outside . we must need that things or person then we will go outside but keep social distance .it is important to it make life happyvery importantbecause it is helpful for me to stay calm.for me, outdoor walks control my anxiety and depression. i do 0t k0w how to explain the feeling of tranquility that these tours give me! peace is surreal. i want to feel 0rmal again!to clear mind everyday preventive actions to help prevent the spread of respiratory viruses should be followed, these include:\\n\\n¥ wash your hands often with soap and water for at least 20 seconds. use an alcohol-based hand sanitizer that contains at least 60% alcohol if soap and water are 0t available.you will see how to bring this off skillfully as you read the first two questions of this report. ... be sure to illustrate with specific examples of your responsibilities and ... the impression that money is 0t important to you, yet you...health is very important and nature sunlight is important fear is unimoprtantit heals my life.i think it is important because it gives you a chance to clear your mind and relax. that is how it is for me, at least.it is spending time outside and that is important for the pysche. in addition to that, vitamin d is something that makes you healthier, and something that is beneficial for keeping you happy.because it makes me feel good, it makes me forget about everyday problems. my body need itsafe your life , stay your homei'm happier indoors.being in nature is relaxing and gets us away from distractions such as housework, crowded places and traffic.it's important to exercise, reflect, and be outsidei think its important to get outside and enjoy natureits very important we should need  relaxation for our bodyit's important in order to feel calm and relaxed, especially when you can't meet other people during covid-19it reminds me of where we come from. it brings me back to mother earth and calms me.i think its important because it helps me to unwind at the end of the day.we need to keep in touch with nature. the more we are aware of it the more we will want to preserve it.helps to refresh mind and body, become more aware of the natural and social surroundings.its very important  we realize 0w in covid 19 health importantit is very important if we spend our time with nature we get pure air and get the natural oxygen it is very good for our health.it's good good for your mental healthi think tech0logy and other people create 0ise and sometimes you need to escape all that artificial and social input and being in nature is a relaxing way to do that.spending time in nature contributes to my mental well being and helps me keep things in perspective.it is important to isolate and remove yourself from everyday stressors. it is also important to connect with nature and the outdoors. to make ourselves happy and calm. it is important to spend time in nature. also it gives very good feel to be with nature. mind will be free from stress.because good air breathe and fell some happiness and give some energyto keep the earth suitable for all living organisms so they can sustain wellto reconnect and decompress from all the information that i take in online everyday.0thing better than breathing the fresh air of natureis important, spreding covid-19well, take your stress off. keeps you healthy. it gives you peace. it makes you feel good about yourself.spend time for nature because it will give relax for our mind and body.it has a very calming and restorative effect on you especially during stressful times.i think fresh air is good for the body and soul.goodimportant.because it gives relax and stress relief. goodi think it is nice to appreciate the beautiful things that god created around us.it gets me outside and away from problems at home. it's also good to get out and move.is important for we are human we mother is naturethat is more like so importentnature creates peace environment.i think this very important already work in the time in nature and something reasoni like itwe are live in competitive world. so health important factor. specially mind relax very important. this kind of activities help to make mind relaxation.we feel lonely when we are idle, peace of mind is available if we spend time with nature during that timenature gives full of positivity in my mind. it gives a lot of energy .because it makes you feel more relaxed and more at peace with yourself it will give me peace and happinesshealth - physical (vit d) and mental (get away from it all)because it gives peace of mind.we are the part of nature. we should live with nature.to clean my e1 from the crowd of the citygood for mental healthbecause you are 0t constraint to the visuals of your home and your imagination would me more stimulating.it is healthier, helps you get some vitamin d and it reduces stress from constant tech0logy use.it is important because when you are outside, you get fresh air and you become less stressed.we can relax our mind while spend the time with nature.and also take some social responses for safe our nature like maintain planting.it is good to get sunshine and help boost our natural vitamin d levels. also, spending time in nature helps us gain a sense of peace and happiness, especially during these trying times.it helps me get calm and feel relaxed, it helps me get focused and free my mind, it energize me and definitely i find it foundamental during this time cause i'm constantly home!\\ni feel better when turning back home, it renews my energy and i come back home feeling ready to focus on my projectsvery like so too importentnatural breathing is very importantit helps you connect with nature and relax. when we feel lonely when we are idle, peace of mind is available if we spend time with nature during that time1 it is important ,spending time with nature make life with happy.it is very much important and its our diutyi think that just getting outside and getting sunlight and fresh air is good for your health, as well as being good for relieving stress.it helps me to relax and more calm. it gives me a peaceful mind.i think it is essential to get fresh air, and exercise. it's also important for my pet and nature.i love nature is important in every one lifeget all services in one place.parks are produced public lands are proven to improve water quality , produced groud waterits very important spend to nature.. during covid time very important spend nature.. time with our family nature love..to live a healthy life without any stress...stress reduce one off most well-k0wn benefits o being in spend in nature.. then improve short term and working memory..it's important because it makes you feel good, and it's as if it benefits your souli like itunimportantit's what keeps me sane! being out in nature is very calming. when the weather is bad, i even  go on drives out in the country areas near my town. i take photos of birds and wildlife. to live a healthy life with out any stress .. stress reduce one of most well k0wn benefits to them being in spend time in nature. then very improve short term and working memory..naturlal brathing is important so go out site it reduces stress being outside and appreciating growing things, the sunlight, the breeze, even the rain or s0w. it brings things back into perspective.dog walking very important to both of hims so natural things is good\""
      ]
     },
     "execution_count": 34,
     "metadata": {},
     "output_type": "execute_result"
    }
   ],
   "source": [
    "string.lower()"
   ]
  },
  {
   "cell_type": "code",
   "execution_count": 37,
   "metadata": {},
   "outputs": [],
   "source": [
    "from wordcloud import WordCloud, STOPWORDS, ImageColorGenerator\n",
    "import re"
   ]
  },
  {
   "cell_type": "code",
   "execution_count": 39,
   "metadata": {},
   "outputs": [],
   "source": [
    "%matplotlib inline\n",
    "import matplotlib.pyplot as plt"
   ]
  },
  {
   "cell_type": "code",
   "execution_count": 38,
   "metadata": {},
   "outputs": [],
   "source": [
    "new_string = (re.sub(r'[^\\w\\s]', '', string)).lower()"
   ]
  },
  {
   "cell_type": "code",
   "execution_count": 40,
   "metadata": {},
   "outputs": [],
   "source": [
    "stopwords = set(STOPWORDS)\n",
    "stopwords.update([\"nature\",\"important\",\"think\",\"make\",\"give\",\"makes\"])"
   ]
  },
  {
   "cell_type": "code",
   "execution_count": 41,
   "metadata": {},
   "outputs": [],
   "source": [
    "wordcloud = WordCloud(stopwords=stopwords, background_color=\"white\",width=800, height=400).generate(new_string)"
   ]
  },
  {
   "cell_type": "code",
   "execution_count": 42,
   "metadata": {},
   "outputs": [
    {
     "data": {
      "text/plain": [
       "<wordcloud.wordcloud.WordCloud at 0x7fa50a3ccb20>"
      ]
     },
     "execution_count": 42,
     "metadata": {},
     "output_type": "execute_result"
    },
    {
     "data": {
      "image/png": "[encoded data removed]",
      "text/plain": [
       "<Figure size 432x288 with 1 Axes>"
      ]
     },
     "metadata": {
      "needs_background": "light"
     },
     "output_type": "display_data"
    },
    {
     "data": {
      "text/plain": [
       "<Figure size 432x288 with 0 Axes>"
      ]
     },
     "metadata": {},
     "output_type": "display_data"
    }
   ],
   "source": [
    "plt.imshow(wordcloud,interpolation=\"bilinear\")\n",
    "plt.axis(\"off\")\n",
    "plt.figure()\n",
    "wordcloud.to_file('importance.png')"
   ]
  },
  {
   "cell_type": "code",
   "execution_count": 192,
   "metadata": {},
   "outputs": [
    {
     "name": "stdout",
     "output_type": "stream",
     "text": [
      "Collecting wordcloud\n",
      "  Using cached wordcloud-1.8.1.tar.gz (220 kB)\n",
      "Requirement already satisfied: numpy>=1.6.1 in /Users/senlingshu/opt/anaconda3/lib/python3.7/site-packages (from wordcloud) (1.19.2)\n",
      "Requirement already satisfied: pillow in /Users/senlingshu/opt/anaconda3/lib/python3.7/site-packages (from wordcloud) (8.0.1)\n",
      "Requirement already satisfied: matplotlib in /Users/senlingshu/opt/anaconda3/lib/python3.7/site-packages (from wordcloud) (3.3.2)\n",
      "Requirement already satisfied: python-dateutil>=2.1 in /Users/senlingshu/opt/anaconda3/lib/python3.7/site-packages (from matplotlib->wordcloud) (2.8.1)\n",
      "Requirement already satisfied: cycler>=0.10 in /Users/senlingshu/opt/anaconda3/lib/python3.7/site-packages (from matplotlib->wordcloud) (0.10.0)\n",
      "Requirement already satisfied: certifi>=2020.06.20 in /Users/senlingshu/opt/anaconda3/lib/python3.7/site-packages (from matplotlib->wordcloud) (2020.6.20)\n",
      "Requirement already satisfied: pyparsing!=2.0.4,!=2.1.2,!=2.1.6,>=2.0.3 in /Users/senlingshu/opt/anaconda3/lib/python3.7/site-packages (from matplotlib->wordcloud) (2.4.7)\n",
      "Requirement already satisfied: kiwisolver>=1.0.1 in /Users/senlingshu/opt/anaconda3/lib/python3.7/site-packages (from matplotlib->wordcloud) (1.3.0)\n",
      "Requirement already satisfied: six>=1.5 in /Users/senlingshu/opt/anaconda3/lib/python3.7/site-packages (from python-dateutil>=2.1->matplotlib->wordcloud) (1.15.0)\n",
      "Building wheels for collected packages: wordcloud\n",
      "  Building wheel for wordcloud (setup.py) ... \u001b[?25ldone\n",
      "\u001b[?25h  Created wheel for wordcloud: filename=wordcloud-1.8.1-cp37-cp37m-macosx_10_9_x86_64.whl size=158509 sha256=376d91185b3402d93e130733814c646ace32a2739b9f4bb16354f650dac750be\n",
      "  Stored in directory: /Users/senlingshu/Library/Caches/pip/wheels/f8/f6/55/6bd394c32a844a621ca0fe5dbf563c8d71d71edaf095656991\n",
      "Successfully built wordcloud\n",
      "Installing collected packages: wordcloud\n",
      "Successfully installed wordcloud-1.8.1\n",
      "Note: you may need to restart the kernel to use updated packages.\n"
     ]
    }
   ],
   "source": [
    "pip install wordcloud"
   ]
  }
 ],
 "metadata": {
  "kernelspec": {
   "display_name": "Python 3",
   "language": "python",
   "name": "python3"
  },
  "language_info": {
   "codemirror_mode": {
    "name": "ipython",
    "version": 3
   },
   "file_extension": ".py",
   "mimetype": "text/x-python",
   "name": "python",
   "nbconvert_exporter": "python",
   "pygments_lexer": "ipython3",
   "version": "3.9.6"
  }
 },
 "nbformat": 4,
 "nbformat_minor": 4
}
